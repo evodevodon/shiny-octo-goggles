{
 "cells": [
  {
   "cell_type": "markdown",
   "id": "49cf11fc-0f85-4314-992e-5f579e5b1916",
   "metadata": {
    "tags": []
   },
   "source": [
    "# Data Science Tools and Ecosystem"
   ]
  },
  {
   "cell_type": "markdown",
   "id": "ee651abd-58bc-489f-ab93-e53718d1be90",
   "metadata": {},
   "source": [
    "In this notebook, Data Science Tools and Ecosystem are summarized."
   ]
  },
  {
   "cell_type": "markdown",
   "id": "29b1d3d3-5409-40cb-804e-23dee7c859ba",
   "metadata": {},
   "source": [
    "Some of the popular languages that Data Scientists use are:\n",
    "1. Python\n",
    "2. R\n",
    "3. SQL\n",
    "4. Julia"
   ]
  },
  {
   "cell_type": "markdown",
   "id": "28489deb-9bb6-45fb-9353-b5a1ab0da272",
   "metadata": {},
   "source": [
    "Some of the commonly used libraries used by Data Scientists include:\n",
    "1. Pandas\n",
    "2. Numpy\n",
    "3. ScikitLearn\n",
    "4. Tensorflow"
   ]
  },
  {
   "cell_type": "markdown",
   "id": "85428cd5-db85-428a-95fa-fa420f501b05",
   "metadata": {},
   "source": [
    "| Data Science Tools |\n",
    "| --- |\n",
    "| Jupyter |\n",
    "| Apache Zepplin |\n",
    "| Spyder |\n",
    "| RStudio |"
   ]
  },
  {
   "cell_type": "markdown",
   "id": "611550ba-0678-4d83-8bca-56b14981317b",
   "metadata": {},
   "source": [
    "### Below are a few examples of evaluating arithmetic expressions in Python"
   ]
  },
  {
   "cell_type": "code",
   "execution_count": 3,
   "id": "d81b971a-29ee-4a01-9b24-65300a38b844",
   "metadata": {
    "tags": []
   },
   "outputs": [
    {
     "data": {
      "text/plain": [
       "17"
      ]
     },
     "execution_count": 3,
     "metadata": {},
     "output_type": "execute_result"
    }
   ],
   "source": [
    "# This a simple arithmetic expression to mutiply, divide, then add integers\n",
    "(3*4)+5"
   ]
  },
  {
   "cell_type": "code",
   "execution_count": 6,
   "id": "62fb347a-520e-4fdc-9724-53c25da2b00e",
   "metadata": {
    "tags": []
   },
   "outputs": [
    {
     "name": "stdout",
     "output_type": "stream",
     "text": [
      "3.3333333333333335  Hours\n"
     ]
    }
   ],
   "source": [
    "# This will convert 200 minutes to hours by diving by 60\n",
    "print(200/60 , \" Hours\")"
   ]
  },
  {
   "cell_type": "markdown",
   "id": "cf318df4-6274-4a6b-a072-5640f71a8863",
   "metadata": {},
   "source": [
    "**Objectives:**\n",
    "List of plotting libraries in R\n",
    "* ggplot\n",
    "* plotly\n",
    "* lattice\n",
    "* leaflet"
   ]
  },
  {
   "cell_type": "markdown",
   "id": "40051456-889e-44e4-8805-2c194536cf2f",
   "metadata": {},
   "source": [
    "## Author\n",
    "Donald"
   ]
  },
  {
   "cell_type": "code",
   "execution_count": null,
   "id": "2534fbb0-7ec4-4d02-b289-21b2592e528c",
   "metadata": {},
   "outputs": [],
   "source": []
  }
 ],
 "metadata": {
  "kernelspec": {
   "display_name": "Python 3 (ipykernel)",
   "language": "python",
   "name": "python3"
  },
  "language_info": {
   "codemirror_mode": {
    "name": "ipython",
    "version": 3
   },
   "file_extension": ".py",
   "mimetype": "text/x-python",
   "name": "python",
   "nbconvert_exporter": "python",
   "pygments_lexer": "ipython3",
   "version": "3.11.5"
  }
 },
 "nbformat": 4,
 "nbformat_minor": 5
}
